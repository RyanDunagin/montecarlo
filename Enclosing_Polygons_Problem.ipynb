{
 "cells": [
  {
   "cell_type": "markdown",
   "metadata": {},
   "source": [
    "# Enclosing Polygons Problem\n",
    "One popular question of geometry involves taking 3 points on the circumference of a circle and forming a triangle (probably a scalene one) with the 3 points as the vertices. The question becomes whether or not this triangle will enclose the center of the circle. Two differing example of this are given below. \n",
    "![Example of Enclosure](Example_Enclosure.png)\n",
    "![Example of No Enclosure](Example_No_Enclosure.png)\n",
    "A related statistical problem is to find the probability that this will happen with 3 $\\textit{random}$ points on the circumference. Quite elegantly, this probability comes out to be exactly 25%. Naturally one can generalize this with regard to N random points. Intuitively, this probability of enclosure should approach 100% for large N, since each added vertex gives the resulting polygon more of a chance to enclose the center.\n",
    "\n",
    "It can be shown that the enclosure probability, P, can be found analytically as:\n",
    "\n",
    "$P_N = 1 - \\frac{N}{2^{N-1}}$\n",
    "\n",
    "Below is a method of verifying this formula by Monti Carlo simulation."
   ]
  },
  {
   "cell_type": "code",
   "execution_count": 20,
   "metadata": {},
   "outputs": [],
   "source": [
    "import matplotlib.pyplot as pyt \n",
    "import numpy as np\n",
    "import matplotlib as mpl\n",
    "import random as r\n",
    "\n",
    "# Here we define a function that similates one random polygon with N vertices. It returns a 1 if the polygon encloses the center\n",
    "# and a 0 if it does not. It can also plot the polygon if told to do so.\n",
    "def enclose_center(N,plotting=0):\n",
    "    \n",
    "    # Assigns N random angles between 0 and 2*pi, and puts them in increasing order\n",
    "    theta = np.zeros(N)\n",
    "    for i in range(N):\n",
    "        theta[i] = 2*np.pi*r.random()\n",
    "    theta = np.sort(theta)\n",
    "    \n",
    "    # Defines the N vertices on the unit circle based on their angles\n",
    "    pts = np.zeros([len(theta),2])\n",
    "    for i, u in enumerate(theta):\n",
    "        # x comp\n",
    "        pts[i][0] = np.cos(u)\n",
    "        # y comp\n",
    "        pts[i][1] = np.sin(u)\n",
    "    \n",
    "    # Defines the N lines which connect the vertices\n",
    "    t = np.linspace(0,1,100)\n",
    "    linx = np.zeros([0,1])\n",
    "    liny = np.zeros([0,1])\n",
    "    dth = np.zeros([N])\n",
    "    for i in range(N):\n",
    "        # Finds differences in theta\n",
    "        if i == 0:\n",
    "            j = N - 1\n",
    "            dth[i] = theta[i] - theta[j] + 2*np.pi\n",
    "        else:\n",
    "            j = i - 1\n",
    "            dth[i] = theta[i] - theta[j]\n",
    "        # line goes from j to i, and is calculated as x and y\n",
    "        x = (pts[i,0] - pts[j,0])*t + pts[j,0] \n",
    "        y = (pts[i,1] - pts[j,1])*t + pts[j,1] \n",
    "        x = np.resize(x,[len(x),1])\n",
    "        y = np.resize(y,[len(y),1])\n",
    "        # line is saved here\n",
    "        linx = np.concatenate([linx, x], axis = 0 )\n",
    "        liny = np.concatenate([liny, y], axis = 0 )\n",
    "    # Defines the circumerence\n",
    "    circ_x = np.cos(2*np.pi*t)\n",
    "    circ_y = np.sin(2*np.pi*t)\n",
    "    \n",
    "    if plotting == 1:    \n",
    "        pyt.scatter(pts[:,0],pts[:,1],c = 'g')\n",
    "        pyt.plot(linx,liny,c = 'orange')\n",
    "        pyt.plot(circ_x,circ_y,c = 'royalblue')\n",
    "        pyt.scatter(0,0,c = 'k')\n",
    "        pyt.xlim((-1,1))\n",
    "        pyt.ylim((-1,1))\n",
    "        pyt.xlabel('x axis')\n",
    "        pyt.ylabel('y axis')\n",
    "        pyt.axis('equal')\n",
    "    # Enclosure logic statement\n",
    "    if any(d > np.pi for d in dth):\n",
    "        return 0\n",
    "    else:\n",
    "        return 1\n"
   ]
  },
  {
   "cell_type": "markdown",
   "metadata": {},
   "source": [
    "Here we defined N random angles on a circle, and thus N random differences in those angles. Notice that the only condition needed to satisfy the enclosure is that $\\textit{none}$ of the differences in these angles were greater than $\\pi$."
   ]
  },
  {
   "cell_type": "code",
   "execution_count": 21,
   "metadata": {},
   "outputs": [
    {
     "name": "stdout",
     "output_type": "stream",
     "text": [
      "Sorry. No dice.\n"
     ]
    },
    {
     "data": {
      "image/png": "[encoded data removed]",
      "text/plain": [
       "<matplotlib.figure.Figure at 0x7fec9587fb38>"
      ]
     },
     "metadata": {
      "needs_background": "light"
     },
     "output_type": "display_data"
    }
   ],
   "source": [
    "N = 7\n",
    "\n",
    "# To plot one random iteration\n",
    "res = enclose_center(N,1)\n",
    "if res == 1:\n",
    "    print('It seems like this does enclose the center!')\n",
    "else:\n",
    "    print('Sorry. No dice.')"
   ]
  },
  {
   "cell_type": "code",
   "execution_count": 22,
   "metadata": {},
   "outputs": [
    {
     "name": "stdout",
     "output_type": "stream",
     "text": [
      "For 10000 iterations, and 3 N values: [3 4 5]\n",
      "Simulated Probabilities: rate =  [ 0.2521  0.504   0.6835]\n",
      "Analytical Probabilities: P_N =  [ 0.25    0.5     0.6875]\n"
     ]
    }
   ],
   "source": [
    "### Verifying our formula with multiple iterations\n",
    "it = 10000\n",
    "# possible number of verices to check\n",
    "nums = np.arange(3,6,1)\n",
    "rate = np.zeros(len(nums))\n",
    "for j, N in enumerate(nums):\n",
    "    res = np.zeros([it])\n",
    "    for i in range(it):\n",
    "        res[i] = enclose_center(N,0)\n",
    "    # Simulated enclosure probability\n",
    "    rate[j] = sum(res)/it\n",
    "# Analytical Probability\n",
    "P_N = 1 - nums/2**(nums - 1)\n",
    "print(f'For {it} iterations, and {len(nums)} N values: {nums}')\n",
    "print(f'Simulated Probabilities: rate =  {rate}')\n",
    "print(f'Analytical Probabilities: P_N =  {P_N}')\n"
   ]
  },
  {
   "cell_type": "code",
   "execution_count": null,
   "metadata": {},
   "outputs": [],
   "source": []
  },
  {
   "cell_type": "code",
   "execution_count": null,
   "metadata": {},
   "outputs": [],
   "source": []
  }
 ],
 "metadata": {
  "kernelspec": {
   "display_name": "Python 3",
   "language": "python",
   "name": "python3"
  },
  "language_info": {
   "codemirror_mode": {
    "name": "ipython",
    "version": 3
   },
   "file_extension": ".py",
   "mimetype": "text/x-python",
   "name": "python",
   "nbconvert_exporter": "python",
   "pygments_lexer": "ipython3",
   "version": "3.6.4"
  }
 },
 "nbformat": 4,
 "nbformat_minor": 2
}
